{
 "cells": [
  {
   "cell_type": "markdown",
   "metadata": {},
   "source": [
    "# Encoding the board"
   ]
  },
  {
   "cell_type": "code",
   "execution_count": 4,
   "metadata": {
    "collapsed": true
   },
   "outputs": [],
   "source": [
    "assignments = []\n",
    "rows = 'ABCDEFGHI'\n",
    "cols = '123456789'\n",
    "cols_rev = cols[::-1]"
   ]
  },
  {
   "cell_type": "code",
   "execution_count": 5,
   "metadata": {
    "collapsed": true
   },
   "outputs": [],
   "source": [
    "def cross(a, b):\n",
    "    return [s+t for s in a for t in b]"
   ]
  },
  {
   "cell_type": "code",
   "execution_count": 6,
   "metadata": {
    "collapsed": true
   },
   "outputs": [],
   "source": [
    "# create boxes\n",
    "boxes = cross(rows, cols)"
   ]
  },
  {
   "cell_type": "code",
   "execution_count": 7,
   "metadata": {
    "collapsed": false
   },
   "outputs": [],
   "source": [
    "# create units\n",
    "row_units = [cross(r, cols) for r in rows]\n",
    "column_units = [cross(rows, c) for c in cols]\n",
    "square_units = [cross(rs, cs) for rs in ('ABC','DEF','GHI') for cs in ('123','456','789')]\n",
    "\n",
    "d1_units = [[rows[i]+cols[i] for i in range(len(rows))]]\n",
    "d2_units = [[rows[i]+cols_rev[i] for i in range(len(rows))]]\n",
    "\n",
    "unitlist = row_units + column_units + square_units + d1_units + d2_units"
   ]
  },
  {
   "cell_type": "code",
   "execution_count": 8,
   "metadata": {
    "collapsed": false
   },
   "outputs": [],
   "source": [
    "units = dict((s, [u for u in unitlist if s in u]) for s in boxes)\n",
    "peers = dict((s, set(sum(units[s],[]))-set([s])) for s in boxes)"
   ]
  },
  {
   "cell_type": "code",
   "execution_count": 10,
   "metadata": {
    "collapsed": false
   },
   "outputs": [],
   "source": [
    "# create display function\n",
    "def display(values):\n",
    "    \"\"\"\n",
    "    Display the values as a 2-D grid.\n",
    "    Input: The sudoku in dictionary form\n",
    "    Output: None\n",
    "    \"\"\"\n",
    "    width = 1+max(len(values[s]) for s in boxes)\n",
    "    line = '+'.join(['-'*(width*3)]*3)\n",
    "    for r in rows:\n",
    "        print(''.join(values[r+c].center(width)+('|' if c in '36' else '')\n",
    "                      for c in cols))\n",
    "        if r in 'CF': print(line)\n",
    "    return"
   ]
  },
  {
   "cell_type": "code",
   "execution_count": 11,
   "metadata": {
    "collapsed": true
   },
   "outputs": [],
   "source": [
    "def assign_value(values, box, value):\n",
    "    \"\"\"\n",
    "    Please use this function to update your values dictionary!\n",
    "    Assigns a value to a given box. If it updates the board record it.\n",
    "    \"\"\"\n",
    "    values[box] = value\n",
    "    if len(value) == 1:\n",
    "        assignments.append(values.copy())\n",
    "    return values"
   ]
  },
  {
   "cell_type": "code",
   "execution_count": 12,
   "metadata": {
    "collapsed": true
   },
   "outputs": [],
   "source": [
    "# improve grid_values() function\n",
    "def grid_values(grid):\n",
    "    \"\"\"Convert grid string into {<box>: <value>} dict with '123456789' value for empties.\n",
    "    \n",
    "    Args:\n",
    "        grid: Sudoku grid in string form, 81 characters long\n",
    "    Returns:\n",
    "        Sudoku grid in dictionary form:\n",
    "        - keys: Box labels, e.g. 'A1'\n",
    "        - values: Value in corresponding box, e.g. '8', or '123456789' if it is empty.\n",
    "    \"\"\"\n",
    "    values = []\n",
    "    all_possible = '123456789'\n",
    "    for e in grid:\n",
    "        if e == '.':\n",
    "            values.append(all_possible)\n",
    "        elif e in all_possible:\n",
    "            values.append(e)\n",
    "    assert len(values) == 81\n",
    "    return dict(zip(boxes, values))   "
   ]
  },
  {
   "cell_type": "code",
   "execution_count": 13,
   "metadata": {
    "collapsed": false
   },
   "outputs": [
    {
     "name": "stdout",
     "output_type": "stream",
     "text": [
      "    2     123456789 123456789 |123456789 123456789 123456789 |123456789 123456789 123456789 \n",
      "123456789 123456789 123456789 |123456789 123456789     6     |    2     123456789 123456789 \n",
      "123456789 123456789     1     |123456789 123456789 123456789 |123456789     7     123456789 \n",
      "------------------------------+------------------------------+------------------------------\n",
      "123456789 123456789     6     |123456789 123456789     8     |123456789 123456789 123456789 \n",
      "    3     123456789 123456789 |123456789     9     123456789 |123456789 123456789     7     \n",
      "123456789 123456789 123456789 |    6     123456789 123456789 |    4     123456789 123456789 \n",
      "------------------------------+------------------------------+------------------------------\n",
      "123456789     4     123456789 |123456789 123456789 123456789 |    8     123456789 123456789 \n",
      "123456789 123456789     5     |    2     123456789 123456789 |123456789 123456789 123456789 \n",
      "123456789 123456789 123456789 |123456789 123456789 123456789 |123456789 123456789     3     \n"
     ]
    }
   ],
   "source": [
    "diag_sudoku_grid = '2.............62....1....7...6..8...3...9...7...6..4...4....8....52.............3'\n",
    "display(grid_values(diag_sudoku_grid))"
   ]
  },
  {
   "cell_type": "code",
   "execution_count": 14,
   "metadata": {
    "collapsed": true
   },
   "outputs": [],
   "source": [
    "def naked_twins(values):\n",
    "    \"\"\"Eliminate values using the naked twins strategy.\n",
    "    Args: values(dict): a dictionary of the form {'box_name': '123456789', ...}\n",
    "\n",
    "    Returns: the values dictionary with the naked twins eliminated from peers.\n",
    "    \"\"\"\n",
    "    # Find all instances of naked twins\n",
    "    possible_twins = [box for box in values.keys() if len(values[box]) == 2]\n",
    "    # Eliminate the naked twins as possibilities for their peers\n",
    "    naked_twins = [[box1,box2] for box1 in possible_twins for box2 in peers[box1] if set(values[box1])==set(values[box2]) ]\n",
    "\n",
    "    # For each pair of naked twins,\n",
    "    for i in range(len(naked_twins)):\n",
    "        box1 = naked_twins[i][0]\n",
    "        box2 = naked_twins[i][1]\n",
    "        # 1- compute intersection of peers\n",
    "        peers1 = set(peers[box1])\n",
    "        peers2 = set(peers[box2])\n",
    "        peers_int = peers1 & peers2\n",
    "        # 2- Delete the two digits in naked twins from all common peers.\n",
    "        for peer_val in peers_int:\n",
    "            if len(values[peer_val])>2:\n",
    "                for rm_val in values[box1]:\n",
    "                    values = assign_value(values, peer_val, values[peer_val].replace(rm_val,''))\n",
    "    return values"
   ]
  },
  {
   "cell_type": "code",
   "execution_count": 15,
   "metadata": {
    "collapsed": false
   },
   "outputs": [],
   "source": [
    "# naked_twins(grid_values(diag_sudoku_grid))"
   ]
  },
  {
   "cell_type": "code",
   "execution_count": 16,
   "metadata": {
    "collapsed": true
   },
   "outputs": [],
   "source": [
    "# eliminate\n",
    "def eliminate(values):\n",
    "    \"\"\"\n",
    "    Eliminate values from peers of each box with a single value.\n",
    "\n",
    "    Go through all the boxes, and whenever there is a box with a single value,\n",
    "    eliminate this value from the set of values of all its peers.\n",
    "\n",
    "    Args: values: Sudoku in dictionary form.\n",
    "    Returns: Resulting Sudoku in dictionary form after eliminating values.\n",
    "    \"\"\"\n",
    "    solved_values = [box for box in values.keys() if len(values[box]) == 1]\n",
    "\n",
    "    for solved_val in solved_values:\n",
    "        digit = values[solved_val]\n",
    "        peers_solv = peers[solved_val]\n",
    "        for peer in peers_solv:\n",
    "            #values[peer] = values[peer].replace(digit,'')\n",
    "            values = assign_value(values, peer, values[peer].replace(digit,''))\n",
    "    return values"
   ]
  },
  {
   "cell_type": "code",
   "execution_count": 17,
   "metadata": {
    "collapsed": true
   },
   "outputs": [],
   "source": [
    "def only_choice(values):\n",
    "    \"\"\"Finalize all values that are the only choice for a unit.\n",
    "\n",
    "    Go through all the units, and whenever there is a unit with a value\n",
    "    that only fits in one box, assign the value to this box.\n",
    "\n",
    "    Input: Sudoku in dictionary form.\n",
    "    Output: Resulting Sudoku in dictionary form after filling in only choices.\n",
    "    \"\"\"\n",
    "    # TODO: Implement only choice strategy here\n",
    "    for unit in unitlist:\n",
    "        for digit in '123456789':\n",
    "            dplaces = [box for box in unit if digit in values[box]]\n",
    "            if len(dplaces) == 1:\n",
    "                #values[dplaces[0]] = digit\n",
    "                values = assign_value(values, dplaces[0], digit)\n",
    "    return values\n"
   ]
  },
  {
   "cell_type": "code",
   "execution_count": 18,
   "metadata": {
    "collapsed": true
   },
   "outputs": [],
   "source": [
    "def reduce_puzzle(values):\n",
    "    \"\"\"\n",
    "    Iterate eliminate() and only_choice(). If at some point, there is a box with no available values, return False.\n",
    "    If the sudoku is solved, return the sudoku.\n",
    "    If after an iteration of both functions, the sudoku remains the same, return the sudoku.\n",
    "    Input: A sudoku in dictionary form.\n",
    "    Output: The resulting sudoku in dictionary form.\n",
    "    \"\"\"\n",
    "    solved_values = [box for box in values.keys() if len(values[box]) == 1]\n",
    "    stalled = False\n",
    "    while not stalled:\n",
    "        solved_values_before = len([box for box in values.keys() if len(values[box]) == 1])\n",
    "        values = eliminate(values)\n",
    "        values = only_choice(values)\n",
    "        values = naked_twins(values)\n",
    "\n",
    "        solved_values_after = len([box for box in values.keys() if len(values[box]) == 1])\n",
    "        stalled = solved_values_before == solved_values_after\n",
    "        if len([box for box in values.keys() if len(values[box]) == 0]):\n",
    "            return False\n",
    "    return values"
   ]
  },
  {
   "cell_type": "code",
   "execution_count": 21,
   "metadata": {
    "collapsed": false
   },
   "outputs": [],
   "source": [
    "def search(values):\n",
    "    \"Using depth-first search and propagation, create a search tree and solve the sudoku.\"\n",
    "    # First, reduce the puzzle using the previous function\n",
    "    values = reduce_puzzle(values)\n",
    "    if values == False:\n",
    "        return False\n",
    "\n",
    "    if all(len(values[s]) == 1 for s in boxes):\n",
    "        return values ## Solved!\n",
    "    # Choose one of the unfilled squares with the fewest possibilities\n",
    "    n,s = min((len(values[s]), s) for s in boxes if len(values[s]) > 1)\n",
    "    # Now use recursion to solve each one of the resulting sudokus, and if one returns a value (not False), return that answer!\n",
    "    for value in values[s]:\n",
    "        new_sudoku = values.copy()\n",
    "        new_sudoku[s] = value\n",
    "        attempt = search(new_sudoku)\n",
    "        if attempt:\n",
    "            return attempt"
   ]
  },
  {
   "cell_type": "code",
   "execution_count": 24,
   "metadata": {
    "collapsed": false
   },
   "outputs": [],
   "source": [
    "def solve(grid):\n",
    "    \"\"\"\n",
    "    Find the solution to a Sudoku grid.\n",
    "    Args:\n",
    "        grid(string): a string representing a sudoku grid.\n",
    "            Example: '2.............62....1....7...6..8...3...9...7...6..4...4....8....52.............3'\n",
    "    Returns:\n",
    "        The dictionary representation of the final sudoku grid. False if no solution exists.\n",
    "    \"\"\"\n",
    "    values = grid_values(grid)\n",
    "    values = search(values)\n",
    "\n",
    "    return values"
   ]
  },
  {
   "cell_type": "code",
   "execution_count": 25,
   "metadata": {
    "collapsed": false
   },
   "outputs": [
    {
     "name": "stdout",
     "output_type": "stream",
     "text": [
      "    2     123456789 123456789 |123456789 123456789 123456789 |123456789 123456789 123456789 \n",
      "123456789 123456789 123456789 |123456789 123456789     6     |    2     123456789 123456789 \n",
      "123456789 123456789     1     |123456789 123456789 123456789 |123456789     7     123456789 \n",
      "------------------------------+------------------------------+------------------------------\n",
      "123456789 123456789     6     |123456789 123456789     8     |123456789 123456789 123456789 \n",
      "    3     123456789 123456789 |123456789     9     123456789 |123456789 123456789     7     \n",
      "123456789 123456789 123456789 |    6     123456789 123456789 |    4     123456789 123456789 \n",
      "------------------------------+------------------------------+------------------------------\n",
      "123456789     4     123456789 |123456789 123456789 123456789 |    8     123456789 123456789 \n",
      "123456789 123456789     5     |    2     123456789 123456789 |123456789 123456789 123456789 \n",
      "123456789 123456789 123456789 |123456789 123456789 123456789 |123456789 123456789     3     \n",
      "2 6 7 |9 4 5 |3 8 1 \n",
      "8 5 3 |7 1 6 |2 4 9 \n",
      "4 9 1 |8 2 3 |5 7 6 \n",
      "------+------+------\n",
      "5 7 6 |4 3 8 |1 9 2 \n",
      "3 8 4 |1 9 2 |6 5 7 \n",
      "1 2 9 |6 5 7 |4 3 8 \n",
      "------+------+------\n",
      "6 4 2 |3 7 9 |8 1 5 \n",
      "9 3 5 |2 8 1 |7 6 4 \n",
      "7 1 8 |5 6 4 |9 2 3 \n"
     ]
    }
   ],
   "source": [
    "diag_sudoku_grid = '2.............62....1....7...6..8...3...9...7...6..4...4....8....52.............3'\n",
    "values = grid_values(diag_sudoku_grid)\n",
    "display(values)\n",
    "display(solve(diag_sudoku_grid))"
   ]
  },
  {
   "cell_type": "code",
   "execution_count": null,
   "metadata": {
    "collapsed": true
   },
   "outputs": [],
   "source": []
  }
 ],
 "metadata": {
  "anaconda-cloud": {},
  "kernelspec": {
   "display_name": "Python [default]",
   "language": "python",
   "name": "python3"
  },
  "language_info": {
   "codemirror_mode": {
    "name": "ipython",
    "version": 3
   },
   "file_extension": ".py",
   "mimetype": "text/x-python",
   "name": "python",
   "nbconvert_exporter": "python",
   "pygments_lexer": "ipython3",
   "version": "3.5.2"
  }
 },
 "nbformat": 4,
 "nbformat_minor": 1
}
